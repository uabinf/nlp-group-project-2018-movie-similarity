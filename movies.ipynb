{
 "cells": [
  {
   "cell_type": "code",
   "execution_count": 24,
   "metadata": {},
   "outputs": [],
   "source": [
    "# import nltk\n",
    "# nltk.download('wordnet')\n",
    "# nltk.download('punkt')\n",
    "# nltk.download('stopwords')\n",
    "# nltk.download('averaged_perceptron_tagger')\n",
    "\n",
    "import re\n",
    "from nltk import word_tokenize, WordNetLemmatizer, pos_tag\n",
    "from nltk.corpus import stopwords, wordnet\n",
    "from pprint import pprint\n",
    "import string"
   ]
  },
  {
   "cell_type": "code",
   "execution_count": 2,
   "metadata": {},
   "outputs": [],
   "source": [
    "# SUBTITLE FILENAMES\n",
    "\n",
    "folder_fn = 'srt/'\n",
    "subtitle_fns = [\"howl's moving castle\", \"ponyo\", \n",
    "                \"princess mononoke\", \"spirited away\"]\n",
    "fn_ext = '.srt'"
   ]
  },
  {
   "cell_type": "code",
   "execution_count": 65,
   "metadata": {
    "scrolled": true
   },
   "outputs": [
    {
     "name": "stdout",
     "output_type": "stream",
     "text": [
      "{'pay', 'assures', 'like', 'dangerous', 'deliver', 'junk', 'always', 'darkness', '50', 'ship', 'son', 'together', 'morning', 'happen', 'sparkling', 'cowardly', 'middle', 'age', 'spell', 'danger', 'body', 'final', 'try', 'serve', 'people', 'able', 'hurry', 'cast', 'friendly', 'heavy', 'puppy', 'advanced', 'eat', 'good', 'make', 'say', 'force', 'believe', 'breakfast', 'mean', 'tantrum', 'ruin', 'wider', 'unpredictable', 'track', 'gang', 'gunpowder', 'die', 'drove', 'longing', 'handsome', 'restore', 'nearby', 'would', 'must', 'weakness', 'information', 'heartless', 'tasty', 'appreciate', 'sophie', 'clean', 'feel', 'interesting', 'blind', 'turn', 'confidential', 'weary', 'brings', 'evil', 'humiliate', 'everyone', 'lovely', 'hang', 'way', 'scarecrow', 'heart', 'fun', 'trust', 'tell', 'maybe', 'airship', 'kept', 'thought', 'call', 'look', 'carry', 'true', 'neighbor', 'chair', 'luck', 'path', 'keep', 'masquerade', 'pick', 'wear', 'catch', 'courtyard', 'matter', 'help', 'consume', 'study', 'dramatic', 'lead', 'attack', 'wind', 'year', 'order', 'town', 'witch', 'blob', 'bath', 'eloquence', 'energy', 'ignore', 'never', 'seat', 'exhaust', 'disreputable', 'clothes', 'perfect', 'living', 'win', 'assist', 'charm', 'save', 'find', 'port', 'await', 'use', 'shame', 'manner', 'coast', 'mix', 'strip', 'hatter', 'suliman', 'soul', 'hometown', 'behind', 'boat', 'madam', 'sure', 'familiar', 'fish', 'terrified', 'heap', 'finally', 'please', 'think', 'sends', 'fight', 'know', 'great', 'beyond', 'point', 'calcifer', 'lie', 'outdone', 'suddenly', 'spirit', 'cut', 'anyone', 'heir', 'let', 'complicate', 'smoke', 'right', 'prohibit', 'u', 'home', 'jenkins', 'delightful', 'hit', 'climb', 'long', 'young', 'hate', 'delighted', 'pendragon', 'nightfall', 'heen', 'hopeless', 'bad', 'push', 'break', 'pain', 'figure', 'simply', 'battleship', 'mind', 'spy', 'day', 'ready', 'suppose', 'flesh', 'show', 'useless', 'late', 'enemy', 'today', 'sit', 'men', 'even', 'go', 'propaganda', 'cane', 'drop', 'fierce', 'run', 'stole', 'kindly', 'grave', 'utterly', 'kill', 'pull', 'dye', 'chance', 'add', 'next', \"c'mon\", 'got', 'suit', 'monster', 'shade', 'time', 'send', 'sorry', 'remember', 'meeting', 'ago', 'country', 'fleet', 'told', 'hello', 'bathroom', 'bring', 'toss', 'amazing', 'worthy', 'thing', 'war', 'gift', 'love', 'hurt', 'terrify', 'vehicle', 'sick', 'awhile', 'courage', 'drink', 'change', 'welcome', 'much', 'wonder', 'safe', 'escape', 'ring', 'report', 'ah', 'shelf', 'grand', 'face', 'stay', 'threaten', 'visit', 'best', 'hat', 'everything', 'since', 'spent', 'real', 'arrow', 'terrible', 'idiot', 'grow', 'wrong', 'family', 'thank', 'turnip', 'shield', 'palace', 'house', 'excuse', 'do', 'quite', 'assemble', 'something', 'back', 'breather', 'straight', 'work', 'hack', 'wizard', 'stop', 'selfish', 'put', 'fall', 'battle', 'heave', 'yeah', 'stink', 'death', 'dial', 'room', 'bomb', 'trap', 'cleaning', 'name', 'impossible', 'border', 'master', 'pretend', 'mother', 'northern', 'one', 'teach', 'hunt', 'beautiful', 'enough', 'meet', 'truth', 'follow', 'intend', 'invite', 'invisibility', 'milk', 'whole', 'move', 'last', 'dress', 'water', 'hair', 'howl', 'glow', 'magic', 'bedroom', 'anything', 'mrs.', 'longer', 'dog', 'kingdom', 'ocean', 'power', 'understand', 'approach', 'markl', 'southern', 'guarantee', 'bargain', 'doggie', 'nowhere', 'student', 'first', 'note', 'potato', 'fresh', 'drag', 'rejoice', 'abandon', 'scar', 'free', 'mixed', 'oh', 'form', 'well', 'king', 'gentle', 'away', 'foolish', 'regain', 'front', 'glass', 'worry', 'waste', 'farther', 'general', 'open', 'shop', 'flew', 'feeble', 'girl', 'new', 'forbidden', 'flyer', 'yes', 'tackle', 'good-for-nothing', 'pretty', 'castle', 'minute', 'boy', 'brought', 'blew', 'dare', 'walk', 'ask', 'afford', 'human', 'marvelous', 'possibly', 'many', 'bore', 'forget', 'need', 'close', 'us', 'ablaze', 'apprentice', 'precious', 'become', 'um', 'course', 'coward', 'crow', 'place', 'upon', 'beat', 'reduce', 'notice', 'refuse', 'still', 'kind', 'sound', 'excellent', 'clever', 'presence', 'eye', 'wench', 'come', 'lady', 'guide', 'fly', 'another', 'job', 'double', 'ever', 'crony', 'hold', 'nice', 'summon', 'trouble', 'awfully', 'housekeeper', 'weird', 'color', 'news', 'foot', 'magnificent', 'mine', 'disguise', 'take', 'dead', 'dump', 'strange', 'sorcery', 'exit', 'joking', 'certainly', 'idle', 'freedom', 'far', 'continue', 'start', 'pulp', 'thanks', 'steer', 'cry', 'leave', 'brave', 'tight', 'see', 'old', 'get', 'stomach', 'demon', 'saw', 'along', 'quick', 'fire', 'light', 'oath', 'risky', 'hot', 'search', '5', 'guest', 'inside', 'academy', 'majesty', 'errand', 'plenty', 'really', 'give', 'ditch', 'stair', 'wish', 'seem', 'purely', 'busy', 'ok', 'hey', 'wait', 'reek', 'later', 'steel', 'want', 'little', 'burnt', 'join', 'star', 'escort', 'return'}\n",
      "{'jerk', 'like', 'sink', 'always', 'mommy', 'ship', 'son', 'shoo', 'morning', 'weaken', 'extremely', 'happen', 'rid', 'finish', 'strong', 'okay', 'age', 'spell', 'grab', 'hope', 'melt', 'puffed', 'try', 'dance', 'nonsense', 'end', 'stuff', 'people', 'root', 'mamare', 'creature', 'complain', 'calm', 'hurry', 'sleep', 'smell', 'dna', 'eat', 'maru', 'hand', 'elixir', 'good', 'soon', 'yoshida', 'full', 'pile', 'fool', 'make', 'say', 'afraid', 'force', 'tomoko', 'believe', 'mean', 'kolchl', 'powerful', 'engine', 'mountain', 'yet', 'burning', 'mad', 'warn', 'everybody', 'die', 'gon', 'genius', 'antenna', 'would', 'must', 'tank', 'voice', 'belt', 'feel', 'child', 'guy', 'coat', 'luc', 'turn', 'miyazaki', 'brings', 'evil', 'cuter', 'everyone', 'lovely', 'hang', 'way', 'fun', 'heart', 'shipshape', 'handle', 'pollute', 'tell', 'often', 'maybe', 'wife', 'park', 'talk', 'derange', 'accept', 'hiiragi', 'thought', 'call', 'look', 'weed', 'quit', 'grateful', 'aye-aye', 'luck', 'dipnorhynchus', 'fujimoto', 'sleepy', 'keep', 'pick', 'catch', 'matter', 'help', 'graveyard', 'triumph', 'wind', 'year', 'town', 'five', 'phone', 'blow', 'kayo', 'animation', 'grasshopper', 'bucket', 'fix', 'never', 'seat', 'harm', 'clothes', 'remain', 'side', 'tomorrow', 'soup', 'loud', 'forgot', 'peak', 'save', 'koganei', 'find', 'asleep', 'beloved', 'use', 'masako', 'pitter-patter', 'sister', 'kazushige', 'kiss', 'sea', 'mistake', 'caution', 'boat', 'dark', 'sure', 'foam', 'fish', 'lu', 'finally', 'think', 'fujimaki', 'hayashi', 'noriko', 'unsafe', 'please', 'winner', 'america', 'know', 'team', 'great', 'ouch', 'beyond', 'nara', 'innocent', 'heard', 'toki', 'cut', 'anyway', 'let', 'dinner', 'crab', 'right', 'fat', 'gotcha', 'u', 'planet', 'match', 'home', 'complete', 'hit', 'climb', 'long', 'shortcut', 'doom', 'fine', 'hug', 'bag', 'may', 'man', 'trial', 'bad', 'fate', 'sorcerer', 'heaven', 'rosy-rosy', 'support', 'gas', 'simply', 'yano', 'devonynchus', 'perform', 'day', 'paper', 'foolishness', 'ready', 'guess', 'harbor', 'chaos', 'suppose', 'disappointed', 'show', 'revert', 'late', 'useless', 'studio', 'today', 'sit', 'even', 'go', 'forever', 'electricity', 'cool', 'lot', 'careful', 'control', 'fit', 'center', 'nozomi', 'drop', 'batch', 'excite', 'splendid', 'run', 'okui', 'special', 'spending', 'door', 'sacred', 'storm', 'learn', \"c'mon\", 'taste', 'answer', 'satellite', 'forecast', 'time', 'send', 'sorry', 'navigate', 'direct', 'meeting', 'skip', 'cliff', 'fault', 'fujioka', 'hello', 'tiny', 'rocket', 'daughter', 'bring', 'disgust', 'gather', 'thing', 'yamaguchi', 'treat', 'love', 'goo', 'whether', 'bear', 'delicious', 'hurt', 'rain', 'drink', 'change', 'towel', 'much', 'wonder', 'escape', 'safe', 'almost', 'bye-bye', 'tokoro', 'explosion', 'wave', 'evacuate', 'stranger', 'tv', 'micro-typhoon', 'face', 'awesome', 'stay', 'second', 'gravitational', 'depend', 'best', 'goldfish', 'sosuke', 'wow', 'everything', 'humidify', 'real', 'cup', 'idiot', 'terrible', 'na', 'wrong', 'exercise', 'thank', 'three', 'signal', '594mgnav', 'shield', 'background', 'plunder', 'house', 'assistance', 'pure', 'wan', 'excuse', 'heritage', 'killer', 'do', 'nearly', 'kumiko', 'something', 'gran', 'back', 'survive', 'work', 'suzuki', 'listen', 'wrap', 'george', 'goddess', 'fast', 'stop', 'yoshie', 'put', 'fall', 'kazuko', 'presto', 'producer', 'heave', 'yeah', 'begin', 'watch', 'munch', 'dry', 'doi', 'cute', 'name', 'someplace', 'shall', 'mother', 'era', 'rumi', 'crazy', 'hiroki', 'two', 'lick', 'one', 'burn', 'tunnel', 'thumb', 'beautiful', 'enough', 'meet', 'truth', 'knee', 'spot', 'awful', 'wheelchair', 'follow', 'forgive', 'koichi', 'unleashed', 'could', 'tummy', 'apologize', 'milk', 'capture', 'move', 'cat', 'whole', 'last', 'movie', 'dress', 'water', 'hair', 'michiyo', 'magic', 'brunhilde', 'school', 'top', 'red', 'dear', 'teeth', 'balance', 'deep', 'bubble', 'music', 'yuki', 'song', 'waterspout', 'nagashima', 'story', 'ocean', 'power', 'understand', 'ate', 'filth', 'success', 'tonight', 'care', 'yuria', 'bother', 'first', 'wake', 'akiko', 'ghibli', 'release', 'nature', 'scar', 'superstitious', 'oh', 'red-red', 'leg', 'well', 'prisoner', 'away', 'captain', 'fell', 'front', 'worry', 'odd', 'huge', 'goodbye', 'anchor', 'open', 'whale', 'amami', 'girl', 'wet', 'calmer', 'senior', 'new', 'land', 'spend', 'play', 'yes', 'write', 'scare', 'rock', 'closer', 'pretty', 'single', 'flooded', 'minute', 'boy', 'stick', 'anymore', 'blue', 'promise', 'lisa', 'ask', 'walk', 'hisaishi', 'earth', 'extreme', 'nanban', 'rise', 'human', 'ancient', 'baby', 'seaworthy', 'loose', 'boiler', 'need', 'close', 'naraoka', 'alive', 'intolerable', 'father', 'peek', 'become', 'witness', 'lose', 'radio', 'car', 'clog', 'place', 'propane', 'joe', 'round', 'shelter', 'ground', 'radar', 'still', 'sound', 'lighthouse', 'quiet', 'eye', 'hop-hop', 'design', 'hayao', 'dock', 'come', 'night', 'lady', 'festival', 'ja4ll', 'big', 'ohashi', 'another', 'rob', 'atsushi', 'hold', 'around', 'alright', 'nice', 'road', 'whack', 'happy', 'weird', 'bingo', 'color', 'fill', 'stuck', 'foot', 'dead', 'take', 'strange', 'mr.', 'disgusting', 'boyfriend', 'far', 'teacher', 'start', 'thanks', 'shallow', 'leeward', 'moment', 'shrink', 'steer', 'wrinkle', 'moon', 'leave', 'cry', 'scary', 'huh', 'tight', 'offshore', 'bright', 'devonian', 'see', 'old', 'someone', 'get', 'romantic', 'protect', 'silly', 'favorite', 'jump', 'along', 'light', 'image', 'ow', 'legs', 'tsunami', 'generator', 'field', 'upset', 'creepy', 'squishy-squeeze', 'bothriolepis', 'ham', 'ponyo', 'yoshiyuki', 'hot', 'blood', 'katsuya', 'noboru', 'inside', 'secret', 'hear', 'superb', 'outside', 'leak', 'worried', 'wonderful', 'toshio', 'really', 'candle', 'lookout', 'give', 'cambrian', 'barrier', 'wish', 'trick', 'seem', 'busy', 'yasuda', 'kondo', 'hotel', 'breath', 'hungry', 'hey', 'wait', 'revolt', 'later', 'life', 'cheer', 'fuel', 'attention', 'want', 'little', 'totally', 'tree', 'ahoy', 'return'}\n"
     ]
    },
    {
     "name": "stdout",
     "output_type": "stream",
     "text": [
      "{'pay', 'weastern', 'nago', 'like', 'dangerous', 'always', 'laby', 'fail', 'together', 'morning', 'breathing', 'happen', 'finish', 'rid', 'strong', 'neck', 'danger', 'grab', 'forest', 'impressive', 'body', 'appear', 'final', 'threw', 'melt', 'snap', 'step', 'hope', 'saddle', 'black', 'try', 'obvious', 'eating', 'end', 'nonsense', 'imperial', 'people', 'bone', 'koruku', 'shipment', 'tribe', 'contemplate', 'creature', 'moutain', 'grim', 'calm', 'able', 'hurry', 'slowly', 'journey', 'demand', 'sleep', 'smell', 'heavy', 'among', 'japan', 'kaya', 'settle', 'eat', 'suffering', 'shut', 'set', 'domain', 'hand', 'good', 'soon', 'fool', 'full', 'race', 'make', 'say', 'entrails', 'afraid', 'trail', 'starvation', 'indeed', 'believe', 'mean', 'generation', 'plant', 'powerful', 'devil', 'rot', 'mountain', 'yet', 'across', 'track', 'everybody', 'ahead', 'warn', 'die', 'injure', 'moutains', 'hall', 'nippon', 'struck', 'messenger', 'weak', 'handsome', 'urgent', 'party', 'wild', 'suggest', 'nearby', 'elk', 'would', 'must', 'woman', 'sign', 'march', 'shot', 'born', 'suspicious', 'feel', 'child', 'agony', 'blind', 'harmless', 'current', 'none', 'sad', 'turn', 'furless', '2', 'mark', 'brings', 'local', 'everyone', 'lovely', 'heart', 'hang', 'way', 'trust', 'chinzei', 'lend', 'yep', 'hell', 'tell', 'safety', 'unspeakable', 'often', 'annoy', 'pour', 'iron', 'alongside', 'maybe', 'wife', 'seep', 'respect', 'kept', 'talk', 'accept', 'monk', 'without', 'call', 'look', 'carry', 'low', 'true', 'comfortably', 'thought', 'golden', 'small', 'crush', 'forge', 'entrust', 'punishment', 'luck', 'path', 'keep', 'simple', 'pick', 'wear', 'reach', 'seek', 'help', 'taught', 'east', 'lead', 'attack', 'dammit', 'chief', 'year', 'respectfully', 'order', 'powder', 'monkey', 'scruffy', 'dreamt', 'five', 'sty', 'manifestation', 'horrible', 'rag', 'boar-gods', 'bitch', 'perhaps', 'gate', 'fix', 'never', 'tore', 'drive', 'harm', 'return', 'eh', 'warrior', 'remain', 'side', 'timing', 'writing', 'pace', 'soup', 'charm', 'tomorrow', 'win', 'violate', 'suspect', 'explode', 'every', 'save', 'revenge', 'closely', 'bird', 'shogun', 'idea', 'find', 'beloved', 'use', 'sake', 'pass', 'manner', 'gold', 'ironwork', 'untill', 'message', 'giant', 'aim', 'uh-oh', 'speech', 'whose', 'apart', 'steal', 'sea', 'television', 'ran', 'river', 'hard', 'throat', 'mistake', 'behind', 'personally', 'near', 'boat', 'sure', 'muck', 'finally', 'please', 'think', 'ordinary', 'defend', 'domestic', 'fight', 'assume', 'white', 'heal', 'know', 'beyond', 'meantime', 'pig', 'awake', 'ten', 'heard', 'spirit', 'toki', 'cut', 'hundred', 'anyone', 'healthy', 'court', 'tusk', 'let', 'smoke', 'right', 'sir', 'afterall', 'mess', 'u', 'home', 'rode', 'animal', 'proud', 'young', 'long', 'fighting', 'fang', 'brother', 'hate', 'others', 'remove', 'fine', 'four', 'head', 'silence', 'conquer', 'typical', 'bag', 'may', 'man', 'scorn', \"'hidden\", 'bad', 'chinese', 'fate', 'ray', 'push', 'ride', 'comrade', 'pain', 'break', 'ox-driver', 'yearn', 'mind', 'worse', 'spy', 'invade', 'perform', 'day', 'paper', 'misfortune', 'buy', 'ready', 'reason', 'suppose', 'hii-sama', 'meddling', 'flesh', 'show', 'elder', 'studio', 'useless', 'late', 'enemy', 'possess', 'today', 'princess', 'sit', 'men', 'even', 'skin', 'scent', 'go', 'box', 'lot', 'control', 'easy', 'san', 'network', 'careful', 'hop', 'splendid', 'though', 'accepted', 'law', 'run', 'excite', 'miss', 'evening', 'forward', 'sickness', 'elegant', 'pas', 'immediately', 'bountiful', 'slay', 'rage', 'slow', 'rip', 'kill', 'pull', 'jumping', 'dream', 'tear', 'fear', 'next', 'approaching', 'god', 'answer', 'warlord', 'vengeance', 'time', 'send', 'sorry', 'remember', 'world', \"'eyes\", 'rampage', 'porter', 'dy', 'beg', 'fault', 'bowl', 'told', 'important', 'hello', 'daughter', 'bring', 'wolves', 'gather', 'disgust', 'thing', 'sight', 'dagger', 'war', 'illness', 'coin', 'shoot', 'bloat', 'hurt', 'bear', 'terrify', 'rite', 'fort', 'sick', 'courage', 'change', 'aside', 'welcome', 'much', 'cave', 'safe', 'escape', 'wonder', 'flashing', 'almost', 'rice', 'ah', 'garden', 'damn', 'bit', 'ravine', 'searching', 'face', 'ashitaka', 'stay', 'sort', 'monopolize', 'jibashiri', 'least', 'visit', 'best', 'irrational', 'arrow', 'since', 'everything', 'real', 'ox-drivers', 'terrible', 'idiot', 'bite', 'grow', 'already', 'west', 'wrong', 'bottom', 'remind', 'tatari-gami', 'thank', 'three', 'wash', 'signal', 'raise', 's-sir', 'spoil', 'less', 'dart', 'house', 'island', 'plan', 'exterminate', 'pure', 'excuse', 'crumble', 'punish', 'quite', 'do', 'assemble', 'leper', 'interfere', 'something', 'swallow', 'might', 'back', 'shatter', 'gunner', 'survive', 'spread', 'bet', 'greatful', 'pelt', 'work', 'listen', 'fast', 'flee', 'unclouded', 'strength', 'slept', 'sense', 'lord', 'stop', 'question', 'selfish', 'large', 'put', 'burst', 'amaze', 'fall', 'nighttime', 'number', 'battle', 'deer', 'yeah', 'fought', 'prepare', 'stink', 'teems', 'spar', 'death', 'gonza', 'begin', 'watch', 'hemp', 'serious', 'haunt', 'business', 'pitch', 'dry', 'trap', 'toe', 'nail', 'name', 'within', 'destroy', 'tracker', 'master', 'shall', 'tame', 'instead', 'mother', 'era', 'resource', 'explosive', 'tatara', 'two', 'one', 'burn', 'disrespect', 'breathe', 'ugly', 'vanish', 'jaw', 'hunt', 'beautiful', 'injury', 'enough', 'sh-she', 'dawn', 'meet', 'truth', 'spot', 'permission', 'proof', 'cover', 'roof', 'follow', 'wood', 'forgive', 'intend', 'could', 'charge', 'asano', 'inner', 'whole', 'surround', 'move', 'last', 'emerge', 'goddammit', 'dress', 'water', 'gotten', 'landslide', 'grief', 'bastard', 'futile', 'greedy', 'cross', 'foster', 'risk', 'rebuild', 'stupid', 'hunter', 'renowned', 'dear', 'deep', 'red', 'alone', 'guardian', 'anything', 'longer', 'ore', 'lake', 'ba', 'forbids', 'power', 'favor', 'understand', 'expose', 'success', 'taint', 'cower', 'traveler', 'care', 'bother', 'yakkuru', 'shishi-gami', 'crawl', 'happens', 'first', 'ironsand', 'cloak', 'wake', 'gun', 'regime', 'ghibli', 'fresh', 'normal', 'panic', 'nature', 'enter', '-so', 'usher', 'farewell', 'jiko', 'free', 'oh', 'form', 'whoever', 'leg', 'stern', 'well', 'touch', 'spouting', 'forgiven', 'humanity', 'acient', 'emporer', 'everywhere', 'away', 'foolish', 'slander', 'boar', 'lightly', 'tokuma', 'fell', 'front', 'insolent', 'flame', 'poison', 'dentsu', 'ghost', 'siege', 'listening', 'worry', 'transition', 'waste', 'farther', 'chew', 'huge', 'crossing', 'samurai', 'open', 'consider', 'receive', 'makeup', 'birth', 'girl', 'confuse', 'hm', 'shift', 'kidding', 'land', 'moro', 'new', 'pit', 'yes', 'robe', 'rough', 'play', 'glad', 'halt', 'guard', 'unknown', 'minute', 'boy', 'word', 'lack', 'ape', 'anymore', 'noise', 'brought', 'resentment', 'situation', 'nothing', 'dare', 'promise', 'hmm', 'ask', 'regret', 'walk', 'crystal', 'post', 'deal', 'lure', 'meat', 'grown', 'money', 'rise', 'human', 'sun', 'ward', 'ancient', 'kiyo', 'many', 'forget', 'slave', 'squabbling', 'loose', 'destroys', 'noble', 'need', 'involve', 'close', 'massive', 'alert', 'expect', \"'do\", 'alive', 'build', 'become', 'cost', 'whomever', 'jii-ji', 'lose', 'course', 'ineffective', 'act', 'flood', 'place', 'upon', '1', 'beat', 'kouroku', 'lay', 'also', 'bow', 'ground', 'rank', 'rather', 'astray', 'still', 'hill', 'happily', 'goodness', 'kind', 'shortly', 'sound', 'arrive', 'presence', 'cure', 'quiet', 'weaker', 'eye', 'mouth', 'hidden', 'ravage', 'design', 'harden', 'vengence', 'bury', 'live', 'mononoke', 'smart', 'avoid', 'come', 'bandage', 'lady', 'guide', 'night', 'big', 'daidarabotchi', 'another', 'bellow', 'although', 'rob', 'defile', 'defeat', 'hold', 'wolf', 'eboshi', 'score', 'grows', 'around', 'emishi', 'arm', 'planting', 'den', 'betray', 'passage', 'koroku', 'yamato', 'humble', 'therefore', 'hood', 'swamp', 'half', 'rest', 'fill', 'curse', 'foot', 'wound', 'magnificent', 'mine', 'ox', 'take', 'dead', 'decide', 'hide', 'strange', '500', 'sympathize', 'reload', 'continue', 'far', 'chieftain', 'teacher', 'start', 'thanks', 'knew', 'similar', 'stone', 'moment', 'casualty', 'leaf', 'brave', 'leave', 'scary', 'cry', 'huh', 'stand', 'trampled', 'ha', 'mound', 'old', 'see', 'bait', 'someone', 'get', 'okkoto', 'demon', 'protect', 'stomach', 'anyways', 'influence', 'line', '-no', 'saw', 'jump', 'along', 'quick', 'hatred', 'fire', 'light', 'crisis', 'husband', 'range', 'ow', 'travel', 'stockade', 'speak', 'suffer', 'rush', 'wither', 'pup', 'peace', 'tend', 'troop', 'shoten', 'north', 'found', 'hot', 'swim', 'blood', 'bitter', 'hour', 'foul', 'boar-god', 'inside', 'disease', 'secret', 'corner', 'hear', 'perish', 'outside', 'plenty', 'unnatural', 'lift', 'towards', 'arrowhead', 'really', 'spurn', 'give', 'broken', 'part', 'wish', 'seem', 'quickly', 'discover', 'ok', 'neither', 'immortality', 'umbrella-toting', 'realize', 'hey', 'wait', 'later', 'village', 'kodama', 'life', 'probably', 'problem', 'steel', 'beast', 'bestow', 'attention', 'want', 'little', 'poverty', 'tree', 'few', 'legend', 'escort', 'worth', 'ball', 'revive'}\n"
     ]
    },
    {
     "name": "stdout",
     "output_type": "stream",
     "text": [
      "{'pay', 'jerk', 'like', 'dangerous', 'furious', 'always', 'darkness', 'mommy', 'fail', 'together', 'morning', 'dad', 'appetizer', 'lazy', 'crybaby', 'happen', 'finish', 'anybody', 'strong', 'traumatize', 'middle', 'neck', 'diversion', 'okay', 'spell', 'grab', 'body', 'final', 'hope', 'handful', 'gravely', 'step', 'black', 'try', 'nonsense', 'end', 'serve', 'people', 'scratch', 'calm', 'able', 'bos', 'mover', 'cause', 'hurry', 'journey', 'worm', 'cast', 'woke', 'sleep', 'smell', 'gut', 'mm-hmm', 'dragon', 'gim', 'bye', 'eat', 'shut', 'set', 'hand', 'good', 'soon', 'full', 'weakling', 'make', 'say', 'afraid', 'tender', 'believe', 'breakfast', 'joke', 'mean', 'sixth', 'powerful', 'entrance', 'yet', 'buts', 'across', 'bleed', 'track', 'everybody', 'warn', 'replace', 'bleeding', 'die', 'gon', 'mmm', 'formula', 'rescue', 'cling', 'would', 'must', 'gentleman', 'shake', 'good-bye', 'else', 'sign', 'voice', 'clip', 'wh', 'yesterday', 'ya', 'contract', 'clean', 'feel', 'leftover', 'guy', 'memory', 'none', 'turn', 'hi', 'evil', 'tire', 'everyone', 'hang', 'way', 'fun', 'trust', 'swipe', 'handle', 'yep', 'tell', 'shoulder', 'load', 'maybe', 'park', 'talk', 'uh', 'direction', 'klutz', 'card', 'without', 'call', 'look', 'spicy', 'thought', 'gobble', 'small', 'twin', 'golden', 'carry', 'tacky', 'quit', 'built', 'distract', 'squashed', 'luck', 'keep', 'planning', 'mustard', 'wear', 'pick', 'reach', 'squash', 'help', 'newt', 'share', 'lead', 'wind', 'dough', 'year', 'order', 'town', 'disappears', 'four-wheel', 'witch', 'runt', 'rich', 'bath', 'duck', 'gate', 'chow', 'wha', 'haku', 'brain', 'never', 'seal', 'restaurant', 'drive', 'harm', 'eh', 'clothes', 'side', 'perfect', 'onto', 'dirty', 'timing', 'win', 'forgot', 'every', 'save', 'picnic', 'bird', 'idea', 'main', 'find', 'asleep', 'stoke', 'sake', 'use', 'speck', 'manner', 'pass', 'gold', 'rope', 'adventure', 'create', 'tough', 'henchman', 'steal', 'sister', 'apron', 'insist', 'intruder', 'sea', 'kiss', 'badly', 'forefinger', 'hard', 'river', 'but-but', 'granny', 'mistake', 'near', \"ma'am\", 'harassment', 'dark', 'sure', 'madam', 'familiar', 'replenish', 'thief', 'finally', 'think', 'please', 'sends', 'bleeds', 'thrive', 'pale', 'disappear', 'fight', 'ill', 'know', 'knock', 'porker', 'great', 'pearl', 'sometime', 'lie', 'pig', 'upstairs', 'telling', 'racket', 'heard', 'spirit', 'cut', 'whining', 'frog', 'pea-brain', 'pink', 'anyway', 'anyone', 'let', 'hint', 'daddy', 'dinner', 'right', 'sir', 'mess', 'fat', 'cushion', 'halfway', 'u', 'match', 'home', 'animal', 'test', 'zaneba', 'young', 'long', 'shortcut', 'hate', 'difficult', 'lever', 'fine', 'four', 'head', 'shore', 'may', 'man', 'weave', 'bad', 'carefully', 'ride', 'break', 'heaven', 'higher', 'lump', 'figure', 'allow', 'drown', 'mind', 'whatever', 'day', 'paper', 'tie', 'buy', 'ready', 'reason', 'guess', 'suppose', 'yubaba', 'show', 'barely', 'late', 'useless', 'filthy', 'today', 'sit', 'even', 'go', 'brat', 'bouquet', 'pigpen', 'customer', 'control', 'careful', 'drop', 'miss', 'fair', 'run', 'mama', 'condition', 'stole', 'forward', 'mugwort', 'one-way', 'depress', 'soak', 'uh-huh', 'thee', 'pie', 'food', 'door', 'rip', 'kill', 'pull', 'dream', '40', 'tear', 'learn', 'next', 'sleek', 'taste', 'answer', 'fake', 'monster', 'time', 'flower', 'sorry', 'remember', 'world', 'chihiro', 'ago', 'boil', 'fault', 'bowl', 'told', 'important', 'hello', 'tiny', 'greet', 'bring', 'dope', 'disgust', 'thing', 'bankrupt', 'sight', 'see-through', 'gift', 'heat', 'love', 'delicious', 'hurt', 'rain', 'slice', 'sick', 'scum', 'staff', 'change', 'welcome', 'aside', 'much', 'wonder', 'escape', 'creep', 'worker', 'wipe', 'damage', 'almost', 'coal', 'slug', 'till', 'report', 'ah', 'bit', 'unbind', 'face', 'stay', 'elevator', 'person', 'second', 'owe', 'attract', 'best', 'since', 'everything', 'scrub', 'wow', 'refill', 'bite', 'real', 'bill', 'idiot', 'floor', 'na', 'terrible', 'hiding', 'already', 'wrong', 'bottom', 'family', 'present', 'thank', 'three', 'wash', 'spoil', 'birthday', 'house', 'plan', 'dumpling', 'pure', 'wan', 'excuse', 'punish', 'fatter', 'exact', 'angry', 'price', 'quite', 'do', 'nearly', 'something', 'swallow', 'might', 'back', 'bet', 'straight', 'work', 'listen', 'steely', 'germ', 'sweetie', 'fast', 'company', 'strength', 'stop', 'cook', 'honey', 'put', 'opposite', 'fall', 'key', 'sen.', 'gee', 'helper', 'heave', 'yeah', 'stink', 'sen', 'death', 'spin', 'watch', \"'em\", 'business', 'serious', 'kamajii', 'knit', 'room', 'manage', 'dry', 'check', 'hmph', 'toe', 'name', 'within', 'someplace', 'destroy', 'plaster', 'master', 'sludge', 'relax', 'mother', 'rumi', 'crazy', 'two', 'one', 'carpet', 'tunnel', 'faster', 'breathe', 'thumb', 'rin', 'beautiful', 'enough', 'meet', 'train', 'cover', 'follow', 'assistant', 'forgive', 'could', 'cake', 'fortune', 'apologize', 'whole', 'move', 'last', 'tail', 'lamp', 'water', 'thrown', 'gotten', 'hair', 'high-class', 'greedy', 'deserve', 'magic', 'cross', 'opening', 'risk', 'stupid', 'apparently', 'school', 'deep', 'top', 'dear', 'alone', 'flow', 'lonely', 'anything', 'credit', 'bicycle', 'longer', 'somewhere', 'tub', 'building', 'understand', 'ate', 'wore', 'medicine', 'tonight', 'nowhere', 'care', 'first', 'yuck', 'wake', 'downstairs', 'normal', 'fresh', 'mission', 'rule', 'abandon', 'scar', 'behave', 'identical', 'mixed', 'tea', 'oh', 'whoever', 'st-stay', 'form', 'leg', 'well', 'tip', 'dirt', 'everywhere', 'pant', 'away', 'fell', 'salt', 'uh-uh', 'front', 'kalaku', 'worry', 'waste', 'chew', 'bum', 'open', 'wh-what', 'enjoy', 'shop', 'cruel', 'clearly', 'suck', 'apartment', 'girl', 'wet', 'moan', 'thorn', 'new', 'belongs', 'actually', 'yes', 'play', 'closer', 'prefer', 'pretty', 'friend', 'minute', 'boy', 'starving', 'stick', 'yank', 'anymore', 'address', 'past', 'nothing', 'blue', 'promise', 'hmm', 'ask', 'walk', 'deal', 'murky', 'granddaughter', 'money', 'rise', 'human', 'pathetic', 'baby', 'department', 'bridge', 'many', 'forget', 'slave', 'smother', 'turnoff', 'cash', 'boiler', 'need', 'chih', 'early', 'month', 'close', 'esophagus', 'expect', 'apprentice', 'ta', 'alive', 'build', 'precious', 'become', 'solid', 'cost', 'father', 'lose', 'property', 'no-face', 'ticket', 'recognize', 'car', 'meal', 'place', 'command', 'poor', 'rumor', 'bow', 'notice', 'refuse', 'sulfur', 'still', 'sometimes', 'goodness', 'nose', 'impressed', 'sound', 'arrive', 'clever', 'quiet', 'bedtime', 'mouth', 'insult', 'hidden', 'eye', 'stingy', 'herbal', 'live', 'monogrammed', 'come', 'night', 'scaredy-cat', 'big', 'another', 'job', 'ever', 'obnoxious', 'hold', 'around', 'nice', 'extra', 'road', 'arm', 'trouble', 'sock', 'complaining', 'foreman', 'thread', 'swamp', 'weird', 'ridiculous', 'smile', \"'90s\", 'fill', 'curse', 'foot', 'shrine', 'mine', 'take', 'dead', 'dump', 'hide', 'choice', 'strange', 'asks', 'mr.', 'funny', 'protective', 'certainly', 'far', 'terribly', 'start', 'station', 'someday', 'radish', 'knew', 'ahh', 'complaint', 'thanks', 'roast', 'shallow', 'theme', 'fails', 'stone', 'leave', 'cry', 'scary', 'huh', 'stand', 'tight', 'ha', 'completely', 'old', 'see', 'hakus', 'bacon', 'someone', 'get', 'starve', 'parent', 'protect', 'lunch', 'saw', 'smelly', 'along', 'trip', 'quick', 'fire', 'light', 'idiots', 'ow', 'aah', 'speak', 'ew', 'shoe', 'upset', 'oath', 'found', 'piglet', 'blood', 'request', 'mm-mmm', 'guest', 'inside', 'secret', 'hear', 'chase', 'outside', 'worried', 'bathhouse', 'wonderful', 'mom', 'really', 'soot', 'give', 'stair', 'ooh', 'trick', 'seem', 'quickly', 'busy', 'rub', 'breath', 'hey', 'hungry', 'wait', 'honcho', 'economy', 'puny', 'hum', 'comfortable', 'later', 'mouse', 'problem', 'life', 'window', 'want', 'little', 'fishy', 'token', 'join', 'dusty', 'slow', 'return', 'ball'}\n"
     ]
    }
   ],
   "source": [
    "# SUBTITLE PREPROCESSING\n",
    "\n",
    "# expected subtitle format:\n",
    "# numeric timestamp index\n",
    "# timestamp\n",
    "# subtitles on >= one line\n",
    "# linebreak\n",
    "\n",
    "# end of a subtitle line is expected to be a full word (i.e., not hyphenated)\n",
    "\n",
    "# subtitles may have the following qualities:\n",
    "# 1. markup (bold, italics, font colour) is between <> \n",
    "# e.g., <font color=\"#00ff00\"></font> \n",
    "# 2. begin with hyphens\n",
    "# 3. contain punctuation\n",
    "# 4. begin (subtitle index 0) and end with subtitle credits of the same format \n",
    "# 5. end with \"The End\"\n",
    "# 6. contain credits at the start of the subtitles \n",
    "\n",
    "def get_raw_subs(filename):\n",
    "    subs = []\n",
    "    sub_data = []\n",
    "    \n",
    "    with open(filename, 'r') as f:\n",
    "        for line in f:          \n",
    "            # collect sub lines of some timestamp\n",
    "            if line != '\\n':\n",
    "                sub_data.append(line[:-1]) # remove newline\n",
    "                continue\n",
    "            \n",
    "            sub_idx = sub_data[0]\n",
    "            is_sub_author_credits = (sub_idx == '0')\n",
    "            if is_sub_author_credits: \n",
    "                sub_data = []\n",
    "                continue\n",
    "            \n",
    "            # add sub line to all subs\n",
    "            for i, sub_line in enumerate(sub_data):            \n",
    "                if i > 1: # index 0 and 1 are sub index and timestamp\n",
    "                    subs.append(sub_line)\n",
    "                \n",
    "            sub_data = []\n",
    "    \n",
    "    return subs\n",
    "\n",
    "def preprocess_subs(raw):\n",
    "    # remove markup\n",
    "    markup = '<[^>]*>'\n",
    "    subs = [re.sub(markup, '', r) for r in raw]\n",
    "    \n",
    "    # tokenisation case-folding\n",
    "    subs = [word_tokenize(s.lower()) for s in subs]\n",
    "    \n",
    "    # remove stopwords and punctuation\n",
    "    stops = set(stopwords.words('english'))\n",
    "    extra_stops = {'...', '... ...', \"'ll\", \"'s\", 'ca', 'je', 'j', 'g', 'jer', \n",
    "                   \"'re\", \"'ve\", \"''\", \"n't\", \"'d\", \"'m\", 'wo', 'u', '``', 'l'}\n",
    "    low_info_stops = {}\n",
    "    stops = stops.union(string.punctuation)\n",
    "    stops = stops.union(extra_stops)\n",
    "    stops = stops.union(low_info_stops)\n",
    "    subs = [[t for t in sub if t not in stops] for sub in subs]\n",
    "    \n",
    "    # TODO\n",
    "    # remove low information words based on how frequently they appear in \n",
    "    # the intra-document and inter-document levels\n",
    "    # 1. sparsely occurring words for each document; and \n",
    "    # 2. words frequent over the WHOLE collection\n",
    "    \n",
    "    # lemmatize\n",
    "    pos = get_pos_tags(subs) # different POS lemmatize differently\n",
    "    subs = [t for sub in subs for t in sub] # flatten\n",
    "    lmtzr = WordNetLemmatizer()\n",
    "    subs = [lmtzr.lemmatize(s, pos[i]) for i, s in enumerate(subs)]\n",
    "        \n",
    "    return subs\n",
    "\n",
    "def get_pos_tags(subs):\n",
    "    pos = [pos_tag(sub) for sub in subs]\n",
    "    pos = [get_wordnet_pos(tag) for sub in pos for t, tag in sub] # flatten, get wordnet pos\n",
    "    return pos\n",
    "\n",
    "def get_wordnet_pos(treebank_tag):\n",
    "    if treebank_tag.startswith('J'):\n",
    "        return wordnet.ADJ\n",
    "    elif treebank_tag.startswith('V'):\n",
    "        return wordnet.VERB\n",
    "    elif treebank_tag.startswith('N'):\n",
    "        return wordnet.NOUN\n",
    "    elif treebank_tag.startswith('R'):\n",
    "        return wordnet.ADV\n",
    "    else: # default POS in WordNetLemmatizer is noun\n",
    "        return wordnet.NOUN\n",
    "\n",
    "def get_vocabulary(bag_of_words):\n",
    "    return set(bag_of_words)\n",
    "\n",
    "for sfn in subtitle_fns:\n",
    "    filename = folder_fn + sfn + fn_ext\n",
    "    raw = get_raw_subs(filename)\n",
    "    bag_of_words = preprocess_subs(raw)\n",
    "    vocabulary = get_vocabulary(bag_of_words)\n",
    "    print(vocabulary)"
   ]
  },
  {
   "cell_type": "code",
   "execution_count": null,
   "metadata": {},
   "outputs": [],
   "source": [
    "# topic modelling\n",
    "\n",
    "# use gensim \n",
    "# collapsed gibbs sampling to approximate posterior \n",
    "\n",
    "# paper used T = 55 topics to be extracted \n",
    "\n"
   ]
  },
  {
   "cell_type": "code",
   "execution_count": null,
   "metadata": {},
   "outputs": [],
   "source": [
    "# topic similarity\n",
    "\n",
    "# cosine similarity between topic components "
   ]
  },
  {
   "cell_type": "code",
   "execution_count": null,
   "metadata": {},
   "outputs": [],
   "source": [
    "# visualise total similarity matrix \n",
    "# white = 1, black = 0 "
   ]
  }
 ],
 "metadata": {
  "kernelspec": {
   "display_name": "Python 3",
   "language": "python",
   "name": "python3"
  },
  "language_info": {
   "codemirror_mode": {
    "name": "ipython",
    "version": 3
   },
   "file_extension": ".py",
   "mimetype": "text/x-python",
   "name": "python",
   "nbconvert_exporter": "python",
   "pygments_lexer": "ipython3",
   "version": "3.6.5"
  }
 },
 "nbformat": 4,
 "nbformat_minor": 2
}
